{
 "cells": [
  {
   "cell_type": "markdown",
   "metadata": {},
   "source": [
    "___\n",
    "# Análise Exploratória: Tipos de Variáveis e Medidas Resumo\n",
    "\n",
    "## Aula 02 - Exercícios\n",
    "___"
   ]
  },
  {
   "cell_type": "markdown",
   "metadata": {},
   "source": [
    "## Índice\n",
    "\n",
    "- [Empresa de TV](#empresa-de-tv)\n",
    "    - [Tipos de variáveis](#tipos-de-variaveis)\n",
    "    - [Exercício 1](#ex1)\n",
    "- [Indo além...](#indo-alem)\n",
    "    - [Exercício 1](#exe1)\n",
    "    - [Exercício 2](#exe2)\n",
    "    - [Exercício 3](#exe3)\n",
    "    - [Exercício 4](#exe4)\n",
    "    - [Exercício 5](#exe5)\n",
    "    - [Exercício 6](#exe6)\n",
    "    - [Exercício 7](#exe7)\n",
    "- [Lista de comandos utilizados neste notebook](#comandos)\n",
    "\n",
    "\n",
    "___"
   ]
  },
  {
   "cell_type": "markdown",
   "metadata": {},
   "source": [
    "<div id=\"empresa-de-tv\"></div>\n",
    "\n",
    "## Empresa de TV\n",
    "\n",
    "Uma empresa de TV via satélite criou recentemente dois tipos de planos de canais (A e B).\n",
    "\n",
    "A empresa tem como objetivo estudar o perfil dos clientes que aderiram ao plano para enviar malas diretas aos potenciais clientes de cada tipo de plano.\n",
    "\n",
    "A base de dados apresenta algumas variáveis para uma amostra de 82 clientes selecionados aleatoriamente dentre aqueles que aderiram aos planos. As variáveis têm os seguintes significados:\n",
    "\n",
    "* CLIENTE: identificador do cliente.\n",
    "* PLANO: apresenta o plano adquirido pelo cliente – (1=A ou 2=B). \n",
    "* EC: apresenta estado civil do cliente no momento da adesão ao  plano – (1=Casado, 2=Solteiro e 3=Outros).\n",
    "* SATISFACAO: grau de satisfação do cliente pelo plano – \n",
    "\t(5=Muito satisfeito, 4=Satisfeito, 3=Indiferente, 2=Insatisfeito e 1=Muito insatisfeito).\n",
    "* RENDA: renda pessoal do cliente, em milhares de reais.\n",
    "\n",
    "O arquivo `EmpresaTV Cod.xlsx` contém as variáveis descritas acima.\n"
   ]
  },
  {
   "cell_type": "code",
   "execution_count": null,
   "metadata": {},
   "outputs": [],
   "source": [
    "%matplotlib inline\n",
    "import pandas as pd\n",
    "import os"
   ]
  },
  {
   "cell_type": "code",
   "execution_count": null,
   "metadata": {
    "scrolled": false
   },
   "outputs": [],
   "source": [
    "# Listando o diretório de trabalho. Lembre-se que o arquivo com a base de dados precisa estar neste diretório.\n",
    "print('Esperamos trabalhar no diretório')\n",
    "print(os.getcwd())"
   ]
  },
  {
   "cell_type": "code",
   "execution_count": null,
   "metadata": {},
   "outputs": [],
   "source": [
    "# Carregando os dados do arquivo\n",
    "dados = pd.read_excel('EmpresaTV Cod.xlsx')"
   ]
  },
  {
   "cell_type": "code",
   "execution_count": null,
   "metadata": {},
   "outputs": [],
   "source": [
    "dados['PLANO'] = dados['PLANO'].astype('category')\n",
    "dados['EC'] = dados['EC'].astype('category')\n",
    "dados['SATISFACAO'] = dados['SATISFACAO'].astype('category')"
   ]
  },
  {
   "cell_type": "code",
   "execution_count": null,
   "metadata": {},
   "outputs": [],
   "source": [
    "dados['PLANO'].cat.categories = ['A', 'B']\n",
    "dados['EC'].cat.categories = ['Casado', 'Solteiro', 'Outros']\n",
    "dados['SATISFACAO'].cat.categories = ['Muito Insatisfeito', 'Insatisfeito', 'Indiferente', 'Satisfeito', 'Muito Satisfeito']"
   ]
  },
  {
   "cell_type": "code",
   "execution_count": null,
   "metadata": {
    "scrolled": true
   },
   "outputs": [],
   "source": [
    "# Visualizando as cinco primeiras linhas\n",
    "dados.head(5)"
   ]
  },
  {
   "cell_type": "markdown",
   "metadata": {},
   "source": [
    "<div id=\"indo-alem\"></div>\n",
    "\n",
    "___\n",
    "\n",
    "## Indo além...\n",
    "\n",
    "Os exercícios a seguir integram conceitos vistos nas últimas duas aulas.\n",
    "\n",
    "**DICA**: os exercícios marcados com &#x2605;&#x2605;&#x2605; são mais difíceis e vão exigir que você aprenda novas funções do pandas. Recomendamos que vocês tentem fazer esses exercícios mesmo depois da aula.\n",
    "___"
   ]
  },
  {
   "cell_type": "markdown",
   "metadata": {},
   "source": [
    "<div id=\"exe1\"></div>\n",
    "\n",
    "### EXERCÍCIO 1\n",
    "\n",
    "A coluna SATISFACAO está com uma granularidade muito grande para algumas análises. Crie uma coluna `SENTIMENTO` no `DataFrame` com as seguintes categorias:\n",
    "\n",
    "    Não curtiu, se SATISFACAO = Insatisfeito ou Muito Insatisfeito\n",
    "    Indiferente, se SATISFACAO = Indiferente\n",
    "    Curtiu, se SATISFACAO = Satisfeito ou Muito Satisfeito"
   ]
  },
  {
   "cell_type": "code",
   "execution_count": null,
   "metadata": {},
   "outputs": [],
   "source": [
    "# Coloque seu código aqui"
   ]
  },
  {
   "cell_type": "markdown",
   "metadata": {},
   "source": [
    "<div id=\"exe2\"></div>\n",
    "\n",
    "### EXERCÍCIO 2 &#x2605;&#x2605;&#x2605;\n",
    "\n",
    "Monte uma tabela cruzada de sentimento versus plano e estado civil. \n",
    "\n",
    "**DICA 1**: a função `pd.crosstab` pode receber uma lista de `Series` (colunas de um `DataFrame`).\n",
    "\n",
    "**DICA 2**: pesquise por \"pandas crosstab multiple columns\"."
   ]
  },
  {
   "cell_type": "code",
   "execution_count": null,
   "metadata": {},
   "outputs": [],
   "source": [
    "# Coloque seu código aqui"
   ]
  },
  {
   "cell_type": "markdown",
   "metadata": {},
   "source": [
    "EXCREVA SUA RESPOSTA AQUI"
   ]
  },
  {
   "cell_type": "markdown",
   "metadata": {},
   "source": [
    "<div id=\"exe3\"></div>\n",
    "\n",
    "### EXERCÍCIO 3\n",
    "\n",
    "Que hipóteses você pode formular a partir dessa tabela?"
   ]
  },
  {
   "cell_type": "markdown",
   "metadata": {},
   "source": [
    "EXCREVA SUA RESPOSTA AQUI"
   ]
  },
  {
   "cell_type": "markdown",
   "metadata": {},
   "source": [
    "<div id=\"exe4\"></div>\n",
    "\n",
    "### EXERCÍCIO 4 &#x2605;&#x2605;&#x2605;\n",
    "\n",
    "Anteriormente, vimos que não faz sentido realizar certas operações com a variável renda devido ao seu tipo de variável. Crie uma nova coluna em `dados` chamada FAIXA_DE_RENDA. Essa nova variável deve dividir a renda de todos os clientes em 3 faixas iguais (veremos que isso não necessariamente é uma boa ideia, mas vamos começar com essa análise simplificada).\n",
    "\n",
    "<div id=\"cut\"></div>\n",
    "\n",
    "**DICA**: a função `pd.cut` pode ser útil para resolver este exercício."
   ]
  },
  {
   "cell_type": "code",
   "execution_count": null,
   "metadata": {},
   "outputs": [],
   "source": [
    "# Coloque seu código aqui"
   ]
  },
  {
   "cell_type": "markdown",
   "metadata": {},
   "source": [
    "<div id=\"exe5\"></div>\n",
    "\n",
    "### EXERCÍCIO 5\n",
    "\n",
    "Monte uma tabela cruzada de sentimento versus plano e faixa de renda."
   ]
  },
  {
   "cell_type": "code",
   "execution_count": null,
   "metadata": {},
   "outputs": [],
   "source": [
    "# Coloque seu código aqui"
   ]
  },
  {
   "cell_type": "markdown",
   "metadata": {},
   "source": [
    "<div id=\"exe6\"></div>\n",
    "\n",
    "### EXERCÍCIO 6\n",
    "\n",
    "Por que não faria sentido montar uma tabela cruzada utilizando a variável RENDA no lugar de FAIXA_DE_RENDA?"
   ]
  },
  {
   "cell_type": "markdown",
   "metadata": {},
   "source": [
    "ESCREVA SUA RESPOSTA AQUI"
   ]
  },
  {
   "cell_type": "markdown",
   "metadata": {},
   "source": [
    "<div id=\"exe7\"></div>\n",
    "\n",
    "### EXERCÍCIO 7\n",
    "\n",
    "<div id=\"groupby\"></div>\n",
    "\n",
    "Reveja a função `.groupby` e utilize-a para imprimir as medidas resumo dos planos A e B, separadamente.\n",
    "\n",
    "**DICA**: você pode usar a função `.describe()`."
   ]
  },
  {
   "cell_type": "code",
   "execution_count": null,
   "metadata": {},
   "outputs": [],
   "source": [
    "# Coloque seu código aqui"
   ]
  },
  {
   "cell_type": "markdown",
   "metadata": {},
   "source": [
    "<div id=\"comandos\"></div>\n",
    "\n",
    "___\n",
    "\n",
    "## Lista de comandos utilizados neste notebook\n",
    "\n",
    "Os seguintes comandos foram utilizados neste jupyter notebook. Para facilitar sua consulta, escreva um resumo do que cada um deles faz:\n",
    "\n",
    "- [`.astype`](#astype): ESCREVA AQUI O RESUMO\n",
    "- [`.cat.categories`](#categories): ESCREVA AQUI O RESUMO\n",
    "- [`.value_counts`](#value_counts): ESCREVA AQUI O RESUMO\n",
    "- [`pd.crosstab`](#crosstab): ESCREVA AQUI O RESUMO\n",
    "- [`.mean`](#mean-median-etc): ESCREVA AQUI O RESUMO\n",
    "- [`.median`](#mean-median-etc): ESCREVA AQUI O RESUMO\n",
    "- [`.quantile`](#mean-median-etc): ESCREVA AQUI O RESUMO\n",
    "- [`.var`](#mean-median-etc): ESCREVA AQUI O RESUMO\n",
    "- [`.std`](#mean-median-etc): ESCREVA AQUI O RESUMO\n",
    "- [`.describe`](#describe): ESCREVA AQUI O RESUMO\n",
    "- [`pd.cut`](#cut): ESCREVA AQUI O RESUMO\n",
    "- [`.groupby`](#groupby): ESCREVA AQUI O RESUMO"
   ]
  },
  {
   "cell_type": "code",
   "execution_count": null,
   "metadata": {},
   "outputs": [],
   "source": []
  }
 ],
 "metadata": {
  "kernelspec": {
   "display_name": "Python 3",
   "language": "python",
   "name": "python3"
  },
  "language_info": {
   "codemirror_mode": {
    "name": "ipython",
    "version": 3
   },
   "file_extension": ".py",
   "mimetype": "text/x-python",
   "name": "python",
   "nbconvert_exporter": "python",
   "pygments_lexer": "ipython3",
   "version": "3.7.1"
  }
 },
 "nbformat": 4,
 "nbformat_minor": 2
}
