{
 "cells": [
  {
   "cell_type": "code",
   "execution_count": 5,
   "metadata": {},
   "outputs": [
    {
     "name": "stdout",
     "output_type": "stream",
     "text": [
      "0.009500050000000001\n"
     ]
    }
   ],
   "source": [
    "Pa_inter_b = (0.5 * 0.1)/100\n",
    "Pb_inter_c = (1   * 0.1)/100\n",
    "Pa_inter_c = (0.5 * 1.0)/100\n",
    "\n",
    "\n",
    "P_a = (0.5 / 100)\n",
    "P_b = (1.0 / 100)\n",
    "P_c = (0.1 / 100)\n",
    "\n",
    "Pa_inter_c_inter_b = P_a * P_b * P_c\n",
    "\n",
    "res = P_a + P_b + P_c - (Pa_inter_b + Pa_inter_c + Pb_inter_c) + Pa_inter_c_inter_b\n",
    "print(res)"
   ]
  },
  {
   "cell_type": "code",
   "execution_count": 6,
   "metadata": {},
   "outputs": [
    {
     "name": "stdout",
     "output_type": "stream",
     "text": [
      "0.99049995\n"
     ]
    }
   ],
   "source": [
    "print(1 - res)"
   ]
  },
  {
   "cell_type": "markdown",
   "metadata": {},
   "source": []
  }
 ],
 "metadata": {
  "kernelspec": {
   "display_name": "Python 3",
   "language": "python",
   "name": "python3"
  },
  "language_info": {
   "codemirror_mode": {
    "name": "ipython",
    "version": 3
   },
   "file_extension": ".py",
   "mimetype": "text/x-python",
   "name": "python",
   "nbconvert_exporter": "python",
   "pygments_lexer": "ipython3",
   "version": "3.7.4"
  }
 },
 "nbformat": 4,
 "nbformat_minor": 2
}
