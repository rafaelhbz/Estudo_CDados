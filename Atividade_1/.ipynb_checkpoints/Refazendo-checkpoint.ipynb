{
 "cells": [
  {
   "cell_type": "code",
   "execution_count": 1,
   "metadata": {},
   "outputs": [],
   "source": [
    "%matplotlib inline\n",
    "import pandas as pd\n",
    "import matplotlib.pyplot as plt\n",
    "import numpy as np\n",
    "import os\n",
    "import math"
   ]
  },
  {
   "cell_type": "code",
   "execution_count": 2,
   "metadata": {},
   "outputs": [
    {
     "name": "stdout",
     "output_type": "stream",
     "text": [
      "Esperamos trabalhar no diretório\n",
      "C:\\Git\\Estudo_CDados\\Atividade_1\n"
     ]
    }
   ],
   "source": [
    "print('Esperamos trabalhar no diretório')\n",
    "print(os.getcwd())"
   ]
  },
  {
   "cell_type": "code",
   "execution_count": 3,
   "metadata": {},
   "outputs": [],
   "source": [
    "dados = pd.ExcelFile('Spacex.xlsx')"
   ]
  },
  {
   "cell_type": "markdown",
   "metadata": {},
   "source": [
    "## Seperando em treinamento e teste"
   ]
  },
  {
   "cell_type": "markdown",
   "metadata": {},
   "source": [
    "### Treinamento"
   ]
  },
  {
   "cell_type": "code",
   "execution_count": 5,
   "metadata": {},
   "outputs": [],
   "source": [
    "treinamento = pd.read_excel(dados, 'Treinamento')\n",
    "treinamento_reindexado = treinamento.set_index(\"Treinamento\")"
   ]
  },
  {
   "cell_type": "code",
   "execution_count": 8,
   "metadata": {},
   "outputs": [],
   "source": [
    "treinamento_relevante = treinamento_reindexado.qual[treinamento_reindexado.qual == 1]\n",
    "#treinamento_relevante"
   ]
  },
  {
   "cell_type": "code",
   "execution_count": 11,
   "metadata": {},
   "outputs": [],
   "source": [
    "treinamento_irrelevante = treinamento_reindexado.qual[treinamento_reindexado.qual == 0]\n",
    "#treinamento_irrelevante"
   ]
  },
  {
   "cell_type": "markdown",
   "metadata": {},
   "source": [
    "### Teste"
   ]
  },
  {
   "cell_type": "code",
   "execution_count": 13,
   "metadata": {},
   "outputs": [],
   "source": [
    "teste = pd.read_excel(dados, 'Teste')\n",
    "teste_reindexado = teste.set_index(\"Teste\")"
   ]
  },
  {
   "cell_type": "code",
   "execution_count": 16,
   "metadata": {},
   "outputs": [],
   "source": [
    "teste_relevante = teste_reindexado.qual[teste_reindexado.qual == 1]\n",
    "#teste_relevante"
   ]
  },
  {
   "cell_type": "code",
   "execution_count": 25,
   "metadata": {},
   "outputs": [],
   "source": [
    "teste_irrelevante = teste_reindexado.qual[teste_reindexado.qual == 0]\n",
    "#teste_irrelevante"
   ]
  },
  {
   "cell_type": "markdown",
   "metadata": {},
   "source": [
    "## Bolando uma estratégia de solução"
   ]
  },
  {
   "cell_type": "markdown",
   "metadata": {},
   "source": [
    "### Seperando cada categoria em uma string específica"
   ]
  },
  {
   "cell_type": "code",
   "execution_count": 33,
   "metadata": {},
   "outputs": [],
   "source": [
    "string_relevante = \"\"\n",
    "for plvrs in treinamento_relevante.index:\n",
    "    string_relevante = string_relevante + plvrs"
   ]
  },
  {
   "cell_type": "code",
   "execution_count": 37,
   "metadata": {},
   "outputs": [],
   "source": [
    "string_irrelevante = \"\"\n",
    "for plvras in treinamento_irrelevante.index:\n",
    "    string_irrelevante = string_irrelevante + plvras"
   ]
  },
  {
   "cell_type": "markdown",
   "metadata": {},
   "source": [
    "### Método de limpeza *"
   ]
  },
  {
   "cell_type": "code",
   "execution_count": 39,
   "metadata": {},
   "outputs": [],
   "source": [
    "import re \n",
    "\n",
    "def cleanup(text):\n",
    "    texto_sem_rt = text.replace(\"rt\", \"\")\n",
    "    \"\"\"\n",
    "        Função de limpeza muito simples que troca alguns sinais básicos por espaços\n",
    "    \"\"\"\n",
    "    punctuation = \"[!\\-:?;.@//]\" # Note que os sinais [] são delimitadores de um conjunto.\n",
    "    pattern = re.compile(punctuation)\n",
    "    text_subbed = re.sub(pattern, '', texto_sem_rt)\n",
    "    return text_subbed    "
   ]
  },
  {
   "cell_type": "markdown",
   "metadata": {},
   "source": [
    "### Limpando e transformando em strings"
   ]
  },
  {
   "cell_type": "code",
   "execution_count": 47,
   "metadata": {},
   "outputs": [],
   "source": [
    "treinamento_relevante_limpo = cleanup(string_relevante.lower())"
   ]
  },
  {
   "cell_type": "code",
   "execution_count": 50,
   "metadata": {},
   "outputs": [],
   "source": [
    "treinamento_irrelevante_limpo = cleanup(string_irrelevante.lower())"
   ]
  },
  {
   "cell_type": "markdown",
   "metadata": {},
   "source": [
    "### Tabela de Frequências"
   ]
  },
  {
   "cell_type": "code",
   "execution_count": 65,
   "metadata": {},
   "outputs": [
    {
     "data": {
      "text/plain": [
       "1045"
      ]
     },
     "execution_count": 65,
     "metadata": {},
     "output_type": "execute_result"
    }
   ],
   "source": [
    "treinamento_relevante_splitado = treinamento_relevante_limpo.split()\n",
    "series_treinamento_relevante = pd.Series(treinamento_relevante_splitado)\n",
    "setado_treinamento_relevante = pd.Series(list(set(series_treinamento_relevante)))\n",
    "setado_treinamento_relevante.count()"
   ]
  },
  {
   "cell_type": "code",
   "execution_count": 70,
   "metadata": {},
   "outputs": [
    {
     "data": {
      "text/plain": [
       "1156"
      ]
     },
     "execution_count": 70,
     "metadata": {},
     "output_type": "execute_result"
    }
   ],
   "source": [
    "treinamento_irrelevante_splitado = treinamento_irrelevante_limpo.split()\n",
    "series_treinamento_irrelevante = pd.Series(treinamento_irrelevante_splitado)\n",
    "setado_treinamento_irrelevante = pd.Series(list(set(series_treinamento_irrelevante)))\n",
    "setado_treinamento_irrelevante.count()"
   ]
  },
  {
   "cell_type": "code",
   "execution_count": 72,
   "metadata": {},
   "outputs": [
    {
     "data": {
      "text/plain": [
       "2201"
      ]
     },
     "execution_count": 72,
     "metadata": {},
     "output_type": "execute_result"
    }
   ],
   "source": [
    "total = len(list(set(treinamento_relevante_splitado))) + len(list(set(treinamento_irrelevante_splitado)))\n",
    "total"
   ]
  },
  {
   "cell_type": "markdown",
   "metadata": {},
   "source": [
    "### Realizando Laplace Smoothing"
   ]
  },
  {
   "cell_type": "code",
   "execution_count": 288,
   "metadata": {},
   "outputs": [],
   "source": [
    "def laplace_smoothin(catg_1,catg_2,tseries):\n",
    "    fator_correção = 10\n",
    "    \n",
    "    counting_catg1 = catg_1.value_counts()\n",
    "    counting_catg2 = catg_2.value_counts()\n",
    "    counting_tseries = tseries.value_counts()\n",
    "    \n",
    "    multiply_catg1_tseries = counting_catg1.multiply(counting_tseries)\n",
    "    multiply_catg2_tseries = counting_catg2.multiply(counting_tseries)\n",
    "    \n",
    "    list_1 = list(catg_1)\n",
    "    #print(list_1)\n",
    "    list_2 = list(catg_2)\n",
    "    #print(list_2)\n",
    "    list_3 = list(tseries)\n",
    "    #print(list_3)\n",
    "    \n",
    "    n_words_catg1 = counting_catg1.sum()\n",
    "    n_words_catg2 = counting_catg2.sum()\n",
    "    #print(n_words_catg1)\n",
    "    \n",
    "    seting_catg1_tseries = set(list_1 + list_3)\n",
    "    seting_catg2_tseries = set(list_2 + list_3)\n",
    "    \n",
    "    fill_nan_catg1 = multiply_catg1_tseries.fillna(0)\n",
    "    fill_nan_catg2 = multiply_catg2_tseries.fillna(0)\n",
    "    \n",
    "    add_1_catg1 = fill_nan_catg1.add(1)\n",
    "    add_1_catg2 = fill_nan_catg2.add(1)\n",
    "    \n",
    "    result_catg1 = add_1_catg1 / (len(list_1) + len(seting_catg1_tseries))\n",
    "    result_catg2 = add_1_catg2 / (len(list_2) + len(seting_catg2_tseries))\n",
    "    \n",
    "    media_catig1 = result_catg1.mean()\n",
    "    media_catig2 = result_catg2.mean()\n",
    "    \n",
    "    #teste_catg1 = 1 / result_catg1\n",
    "    #teste_catg2 = 1 / result_catg2\n",
    "    \n",
    "    \n",
    "#     log_catg1 = []\n",
    "#     log_catg2 = []\n",
    "#     for values in result_catg1:\n",
    "#         log_prob = math.log(values) / fator_correção\n",
    "#         log_catg1.append(log_prob)\n",
    "    \n",
    "#     for vles in result_catg2:\n",
    "#         log_prob = math.log(vles) / fator_correção\n",
    "#         log_catg2.append(log_prob)\n",
    "        \n",
    "#     prob_catg1 = 1\n",
    "#     for valores_1 in log_catg1:\n",
    "#         prob_catg1 = prob_catg1 * valores_1\n",
    "    \n",
    "#     prob_catg2 = 1\n",
    "#     for valores_2 in log_catg2:\n",
    "#         prob_catg2 = prob_catg2 * valores_2\n",
    "\n",
    "    todas_prob = []\n",
    "    todas_prob2 = []\n",
    "    \n",
    "    prob_catg1 = 1\n",
    "    for vles in result_catg1:\n",
    "        prob_catg1 = prob_catg1 * vles\n",
    "        todas_prob.append(prob_catg1)\n",
    "        \n",
    "    prob_catg2 = 1\n",
    "    for vls in result_catg2:\n",
    "        prob_catg2 = prob_catg2 * vls\n",
    "        todas_prob2.append(prob_catg2)\n",
    "        \n",
    "    prob_1_filtro = []\n",
    "    for al in todas_prob:\n",
    "        if al != 0.0:\n",
    "            prob_1_filtro.append(al)\n",
    "            \n",
    "    prob_2_filtro = []\n",
    "    for a in todas_prob2:\n",
    "        if a != 0.0:\n",
    "            prob_2_filtro.append(a)\n",
    "    \n",
    "    series_prob1 = pd.Series(prob_1_filtro)\n",
    "    prob_catg1_nzero = series_prob1.min()\n",
    "    \n",
    "    series_prob2 = pd.Series(prob_2_filtro)\n",
    "    prob_catg2_nzero = series_prob2.min()\n",
    "    \n",
    "    series_catg1_prob = pd.Series(todas_prob)\n",
    "    series_catg2_prob = pd.Series(todas_prob2)\n",
    "        \n",
    "    #prob_catg1_teste = 1\n",
    "    #for va in result_catg1:\n",
    "        #prob_catg1_teste = prob_catg1_teste * (va)\n",
    "        #print(prob_catg1_teste)\n",
    "        #prob_catg1_teste = 0.15 ** prob_catg1_teste\n",
    "        \n",
    "    #prob_catg2_teste = 1\n",
    "    #for v in result_catg2:\n",
    "        #prob_catg2_teste = prob_catg2_teste * (v)\n",
    "        #prob_catg2_teste = 0.15 ** prob_catg2_teste\n",
    "        \n",
    "    #prob_catg1_teste = 1 / prob_catg1_teste\n",
    "    #prob_catg2_teste = 1 / prob_catg2_teste\n",
    "        \n",
    "    if media_catig1 > media_catig2:\n",
    "        print(\"É mais provável que faça parte da categoria 1!\")\n",
    "    else:\n",
    "        print(\"É mais provável que faça parte da categoria 2!\")\n",
    "    #print(teste_catg1)\n",
    "    \n",
    "    return media_catig1, media_catig2"
   ]
  },
  {
   "cell_type": "code",
   "execution_count": 290,
   "metadata": {},
   "outputs": [
    {
     "name": "stdout",
     "output_type": "stream",
     "text": [
      "É mais provável que faça parte da categoria 1!\n",
      "(0.015733711808346557, 0.0055355175656996)\n"
     ]
    }
   ],
   "source": [
    "print(laplace_smoothin(series_treinamento_relevante,series_treinamento_irrelevante,series_treinamento_relevante))"
   ]
  },
  {
   "cell_type": "code",
   "execution_count": null,
   "metadata": {},
   "outputs": [],
   "source": []
  },
  {
   "cell_type": "code",
   "execution_count": null,
   "metadata": {},
   "outputs": [],
   "source": []
  },
  {
   "cell_type": "code",
   "execution_count": null,
   "metadata": {},
   "outputs": [],
   "source": []
  }
 ],
 "metadata": {
  "kernelspec": {
   "display_name": "Python 3",
   "language": "python",
   "name": "python3"
  },
  "language_info": {
   "codemirror_mode": {
    "name": "ipython",
    "version": 3
   },
   "file_extension": ".py",
   "mimetype": "text/x-python",
   "name": "python",
   "nbconvert_exporter": "python",
   "pygments_lexer": "ipython3",
   "version": "3.7.4"
  }
 },
 "nbformat": 4,
 "nbformat_minor": 4
}
